{
 "nbformat": 4,
 "nbformat_minor": 0,
 "metadata": {
  "colab": {
   "provenance": []
  },
  "kernelspec": {
   "name": "python3",
   "language": "python",
   "display_name": "Python 3 (ipykernel)"
  },
  "language_info": {
   "name": "python"
  }
 },
 "cells": [
  {
   "cell_type": "code",
   "execution_count": 7,
   "metadata": {
    "id": "8tgxs9pCUcfQ",
    "ExecuteTime": {
     "end_time": "2024-03-21T00:53:17.490682614Z",
     "start_time": "2024-03-21T00:53:17.480187479Z"
    }
   },
   "outputs": [
    {
     "ename": "ModuleNotFoundError",
     "evalue": "No module named 'torch'",
     "output_type": "error",
     "traceback": [
      "\u001B[0;31m---------------------------------------------------------------------------\u001B[0m",
      "\u001B[0;31mModuleNotFoundError\u001B[0m                       Traceback (most recent call last)",
      "Cell \u001B[0;32mIn[7], line 1\u001B[0m\n\u001B[0;32m----> 1\u001B[0m \u001B[38;5;28;01mimport\u001B[39;00m \u001B[38;5;21;01mtorch\u001B[39;00m\n\u001B[1;32m      2\u001B[0m \u001B[38;5;28;01mimport\u001B[39;00m \u001B[38;5;21;01mtorch\u001B[39;00m\u001B[38;5;21;01m.\u001B[39;00m\u001B[38;5;21;01mnn\u001B[39;00m \u001B[38;5;28;01mas\u001B[39;00m \u001B[38;5;21;01mnn\u001B[39;00m\n\u001B[1;32m      3\u001B[0m \u001B[38;5;28;01mimport\u001B[39;00m \u001B[38;5;21;01mtorch\u001B[39;00m\u001B[38;5;21;01m.\u001B[39;00m\u001B[38;5;21;01mnn\u001B[39;00m\u001B[38;5;21;01m.\u001B[39;00m\u001B[38;5;21;01mfunctional\u001B[39;00m \u001B[38;5;28;01mas\u001B[39;00m \u001B[38;5;21;01mF\u001B[39;00m\n",
      "\u001B[0;31mModuleNotFoundError\u001B[0m: No module named 'torch'"
     ]
    }
   ],
   "source": [
    "import torch\n",
    "import torch.nn as nn\n",
    "import torch.nn.functional as F\n",
    "import torch.optim as optim\n",
    "import matplotlib.pyplot as plt\n",
    "import torchvision\n",
    "from torch.utils.data import DataLoader\n",
    "from torchvision import datasets, transforms\n",
    "import numpy as np\n",
    "import random\n",
    "import os\n",
    "import glob"
   ]
  },
  {
   "cell_type": "code",
   "execution_count": null,
   "outputs": [],
   "source": [
    "torch.cuda.is.available()"
   ],
   "metadata": {
    "collapsed": false
   }
  },
  {
   "cell_type": "markdown",
   "source": [
    "# Load The Dataset"
   ],
   "metadata": {
    "id": "VqyE74qeUxo9"
   }
  },
  {
   "cell_type": "code",
   "source": [
    "transform = transforms.Compose([\n",
    "    transforms.ToTensor(),\n",
    "    transforms.Normalize((0.5, 0.5, 0.5), (0.5, 0.5, 0.5))\n",
    "])\n",
    "\n",
    "trainset = datasets.CIFAR10(root='./data', train=True, download=True, transform=transform)\n",
    "trainloader = DataLoader(trainset, batch_size=64, shuffle=True, drop_last = True)\n",
    "\n",
    "testset = datasets.CIFAR10(root='./data', train=False, download=True, transform=transform)\n",
    "testloader = DataLoader(testset, batch_size=64, shuffle=False, drop_last = True)"
   ],
   "metadata": {
    "colab": {
     "base_uri": "https://localhost:8080/"
    },
    "id": "3VLSbmNbUgcN",
    "outputId": "381f863d-b296-4c32-e3b5-0ee428c49fe9",
    "ExecuteTime": {
     "start_time": "2024-03-21T00:52:06.390471462Z"
    }
   },
   "execution_count": 4,
   "outputs": [
    {
     "ename": "NameError",
     "evalue": "name 'transforms' is not defined",
     "output_type": "error",
     "traceback": [
      "\u001B[0;31m---------------------------------------------------------------------------\u001B[0m",
      "\u001B[0;31mNameError\u001B[0m                                 Traceback (most recent call last)",
      "Cell \u001B[0;32mIn[4], line 1\u001B[0m\n\u001B[0;32m----> 1\u001B[0m transform \u001B[38;5;241m=\u001B[39m \u001B[43mtransforms\u001B[49m\u001B[38;5;241m.\u001B[39mCompose([\n\u001B[1;32m      2\u001B[0m     transforms\u001B[38;5;241m.\u001B[39mToTensor(),\n\u001B[1;32m      3\u001B[0m     transforms\u001B[38;5;241m.\u001B[39mNormalize((\u001B[38;5;241m0.5\u001B[39m, \u001B[38;5;241m0.5\u001B[39m, \u001B[38;5;241m0.5\u001B[39m), (\u001B[38;5;241m0.5\u001B[39m, \u001B[38;5;241m0.5\u001B[39m, \u001B[38;5;241m0.5\u001B[39m))\n\u001B[1;32m      4\u001B[0m ])\n\u001B[1;32m      6\u001B[0m trainset \u001B[38;5;241m=\u001B[39m datasets\u001B[38;5;241m.\u001B[39mCIFAR10(root\u001B[38;5;241m=\u001B[39m\u001B[38;5;124m'\u001B[39m\u001B[38;5;124m./data\u001B[39m\u001B[38;5;124m'\u001B[39m, train\u001B[38;5;241m=\u001B[39m\u001B[38;5;28;01mTrue\u001B[39;00m, download\u001B[38;5;241m=\u001B[39m\u001B[38;5;28;01mTrue\u001B[39;00m, transform\u001B[38;5;241m=\u001B[39mtransform)\n\u001B[1;32m      7\u001B[0m trainloader \u001B[38;5;241m=\u001B[39m DataLoader(trainset, batch_size\u001B[38;5;241m=\u001B[39m\u001B[38;5;241m64\u001B[39m, shuffle\u001B[38;5;241m=\u001B[39m\u001B[38;5;28;01mTrue\u001B[39;00m, drop_last \u001B[38;5;241m=\u001B[39m \u001B[38;5;28;01mTrue\u001B[39;00m)\n",
      "\u001B[0;31mNameError\u001B[0m: name 'transforms' is not defined"
     ]
    }
   ]
  },
  {
   "cell_type": "code",
   "source": [
    "first_batch = next(iter(trainloader))\n",
    "\n",
    "print(first_batch[0].size())\n",
    "print(first_batch[1].size())"
   ],
   "metadata": {
    "colab": {
     "base_uri": "https://localhost:8080/"
    },
    "id": "wBNQt1tzUs8V",
    "outputId": "75446b1b-22e3-4366-e903-70357b5043c5",
    "ExecuteTime": {
     "start_time": "2024-03-21T00:52:06.401722922Z"
    }
   },
   "execution_count": null,
   "outputs": []
  },
  {
   "cell_type": "code",
   "source": [
    "images = first_batch[0]\n",
    "labels = first_batch[1]"
   ],
   "metadata": {
    "id": "-0DT68m-WL8j",
    "ExecuteTime": {
     "end_time": "2024-03-21T00:52:06.468106229Z",
     "start_time": "2024-03-21T00:52:06.449422325Z"
    }
   },
   "execution_count": null,
   "outputs": []
  },
  {
   "cell_type": "code",
   "source": [
    "plt.imshow(np.transpose((images[0] + 1) /2, (1,2,0)))\n",
    "plt.show()"
   ],
   "metadata": {
    "colab": {
     "base_uri": "https://localhost:8080/",
     "height": 430
    },
    "id": "RoO_ffsLWGl2",
    "outputId": "90223be2-93e9-49ad-892a-bef5e6acb0d9",
    "ExecuteTime": {
     "start_time": "2024-03-21T00:52:06.449715321Z"
    }
   },
   "execution_count": null,
   "outputs": []
  },
  {
   "cell_type": "markdown",
   "source": [
    "# Convs example"
   ],
   "metadata": {
    "id": "ioh5SMP_ZDOb"
   }
  },
  {
   "cell_type": "code",
   "source": [
    "conv_1 = nn.Conv2d(3, 10, kernel_size = 3)\n",
    "                # (filter channels, how many filter is used, filter size)\n",
    "\n",
    "conv_1_out = conv_1(images)         # image = [3, 32, 32]\n",
    "                                    # conv_1_out = [10, 30, 30] (32 - 3)/ 1 + 1 = 30\n",
    "\n",
    "print(conv_1_out.size())"
   ],
   "metadata": {
    "colab": {
     "base_uri": "https://localhost:8080/"
    },
    "id": "SRGQF2OSW3ob",
    "outputId": "6b7aa9e2-6964-4927-a16f-90987a90910e",
    "ExecuteTime": {
     "start_time": "2024-03-21T00:52:06.449810751Z"
    }
   },
   "execution_count": null,
   "outputs": []
  },
  {
   "cell_type": "code",
   "source": [
    "conv_2 = nn.Conv2d(3, 5, kernel_size = 5)\n",
    "\n",
    "conv_2_out = conv_2(images)         # conv_2_out = [5, 28, 28]\n",
    "\n",
    "print(conv_2_out.size())"
   ],
   "metadata": {
    "colab": {
     "base_uri": "https://localhost:8080/"
    },
    "id": "DxDzrVVQYsK-",
    "outputId": "80b00282-0d26-4662-98bb-1486e093baae",
    "ExecuteTime": {
     "start_time": "2024-03-21T00:52:06.449894590Z"
    }
   },
   "execution_count": null,
   "outputs": []
  },
  {
   "cell_type": "code",
   "source": [
    "conv_3 = nn.Conv2d(3, 5, kernel_size = 3, stride = 1)\n",
    "\n",
    "conv_3_out = conv_3(images)         # [5, 30, 30]\n",
    "\n",
    "print(conv_3_out.size())"
   ],
   "metadata": {
    "colab": {
     "base_uri": "https://localhost:8080/"
    },
    "id": "SwX_fnv1YxsN",
    "outputId": "2a1b9722-4071-49d5-a8f4-f63cc7c648ea",
    "ExecuteTime": {
     "start_time": "2024-03-21T00:52:06.449975373Z"
    }
   },
   "execution_count": null,
   "outputs": []
  },
  {
   "cell_type": "code",
   "source": [
    "conv_4 = nn.Conv2d(3, 5, kernel_size = 4, stride = 2, padding = 1)\n",
    "\n",
    "conv_4_out = conv_4(images)         # (32 - 4 + 2 * 1) / 2 + 1 = 16\n",
    "\n",
    "print(conv_4_out.size())"
   ],
   "metadata": {
    "colab": {
     "base_uri": "https://localhost:8080/"
    },
    "id": "q7AfJtE-Y3Ao",
    "outputId": "af0ddd88-1abc-456c-93f4-0ec2a7853e9a",
    "ExecuteTime": {
     "start_time": "2024-03-21T00:52:06.450050886Z"
    }
   },
   "execution_count": null,
   "outputs": []
  },
  {
   "cell_type": "markdown",
   "source": [
    "## Exercise"
   ],
   "metadata": {
    "id": "48881kLzZFtq"
   }
  },
  {
   "cell_type": "code",
   "source": [
    "conv1 = nn.Conv2d(3, 6, kernel_size = 5)\n",
    "conv2 = nn.Conv2d(6, 16, kernel_size = 5)"
   ],
   "metadata": {
    "id": "hvvNvcdFZIqz",
    "ExecuteTime": {
     "start_time": "2024-03-21T00:52:06.450136108Z"
    }
   },
   "execution_count": null,
   "outputs": []
  },
  {
   "cell_type": "code",
   "source": [
    "conv_1_out = conv1(images)              # image (3, 32, 32)     -> (6, 28, 28)\n",
    "conv_2_out = conv2(conv_1_out)          # (6, 28, 28)    -> (16, 24, 24)\n",
    "\n",
    "print(conv_2_out.size())"
   ],
   "metadata": {
    "colab": {
     "base_uri": "https://localhost:8080/"
    },
    "id": "dyztWuXlZURh",
    "outputId": "da94cbd0-1b1a-44ab-dd0d-eb78c1a42663",
    "ExecuteTime": {
     "start_time": "2024-03-21T00:52:06.450216470Z"
    }
   },
   "execution_count": null,
   "outputs": []
  },
  {
   "cell_type": "markdown",
   "source": [
    "# Pooling"
   ],
   "metadata": {
    "id": "xfgH9qrOZgF_"
   }
  },
  {
   "cell_type": "code",
   "source": [
    "pool_1 = nn.MaxPool2d(2, 2)\n",
    "pool_1_out = pool_1(images)         # [64, 3, 32, 32]\n",
    "\n",
    "print(pool_1_out.size())"
   ],
   "metadata": {
    "colab": {
     "base_uri": "https://localhost:8080/"
    },
    "id": "XYv-g4IOZhjJ",
    "outputId": "f2b00ea3-56cf-460c-dd4d-56969cfa454a",
    "ExecuteTime": {
     "start_time": "2024-03-21T00:52:06.450297714Z"
    }
   },
   "execution_count": null,
   "outputs": []
  },
  {
   "cell_type": "markdown",
   "source": [
    "# Design your own Network"
   ],
   "metadata": {
    "id": "H-DDO2TJaDpd"
   }
  },
  {
   "cell_type": "code",
   "source": [
    "conv_1 = nn.Conv2d(3, 16, kernel_size = 5)\n",
    "pool_1 = nn.MaxPool2d(2, 2)\n",
    "conv_2 = nn.Conv2d(16, 32, kernel_size = 5)\n",
    "pool_2 = nn.MaxPool2d(2, 2)\n",
    "\n",
    "conv1_out = conv_1(images)              # conv1_out [64, 16, 28, 28]\n",
    "pool1_out = pool_1(conv1_out)           # pool1_out [64, 16, 14, 14]\n",
    "\n",
    "conv2_out = conv_2(pool1_out)           # conv2_out [64, 32, 10, 10]\n",
    "pool2_out = pool_2(conv2_out)           # pool2_out [64, 32, 5, 5]\n",
    "\n",
    "print(pool2_out.size())"
   ],
   "metadata": {
    "colab": {
     "base_uri": "https://localhost:8080/"
    },
    "id": "ngHpXh7xaG6W",
    "outputId": "f73a7ed5-1334-485e-ff6c-1c741f3e68b4",
    "ExecuteTime": {
     "start_time": "2024-03-21T00:52:06.451699931Z"
    }
   },
   "execution_count": 5,
   "outputs": [
    {
     "ename": "NameError",
     "evalue": "name 'nn' is not defined",
     "output_type": "error",
     "traceback": [
      "\u001B[0;31m---------------------------------------------------------------------------\u001B[0m",
      "\u001B[0;31mNameError\u001B[0m                                 Traceback (most recent call last)",
      "Cell \u001B[0;32mIn[5], line 1\u001B[0m\n\u001B[0;32m----> 1\u001B[0m conv_1 \u001B[38;5;241m=\u001B[39m \u001B[43mnn\u001B[49m\u001B[38;5;241m.\u001B[39mConv2d(\u001B[38;5;241m3\u001B[39m, \u001B[38;5;241m16\u001B[39m, kernel_size \u001B[38;5;241m=\u001B[39m \u001B[38;5;241m5\u001B[39m)\n\u001B[1;32m      2\u001B[0m pool_1 \u001B[38;5;241m=\u001B[39m nn\u001B[38;5;241m.\u001B[39mMaxPool2d(\u001B[38;5;241m2\u001B[39m, \u001B[38;5;241m2\u001B[39m)\n\u001B[1;32m      3\u001B[0m conv_2 \u001B[38;5;241m=\u001B[39m nn\u001B[38;5;241m.\u001B[39mConv2d(\u001B[38;5;241m16\u001B[39m, \u001B[38;5;241m32\u001B[39m, kernel_size \u001B[38;5;241m=\u001B[39m \u001B[38;5;241m5\u001B[39m)\n",
      "\u001B[0;31mNameError\u001B[0m: name 'nn' is not defined"
     ]
    }
   ]
  },
  {
   "cell_type": "code",
   "source": [
    "x = pool2_out.view(-1, 32 * 5 * 5)     # x [64, 800]\n",
    "\n",
    "fc = nn.Linear(800, 10)\n",
    "\n",
    "x = fc(x)\n",
    "\n",
    "print(x.size())"
   ],
   "metadata": {
    "id": "j57P74Yba5Ad",
    "outputId": "a9b72674-ae80-4e74-eb59-ca9f1240f139",
    "colab": {
     "base_uri": "https://localhost:8080/"
    },
    "ExecuteTime": {
     "start_time": "2024-03-21T00:52:06.451940317Z"
    }
   },
   "execution_count": null,
   "outputs": []
  },
  {
   "cell_type": "code",
   "source": [
    "class CustomNN(nn.Module):\n",
    "    def __init__(self):\n",
    "        super(CustomNN, self).__init__()\n",
    "        self.features = nn.Sequential(\n",
    "            nn.Conv2d(3, 16, kernel_size = 5),\n",
    "            nn.ReLU(inplace=True),\n",
    "            nn.MaxPool2d(2, 2),\n",
    "            nn.Conv2d(16, 32, kernel_size = 5),\n",
    "            nn.ReLU(inplace=True),\n",
    "            nn.MaxPool2d(2, 2)\n",
    "        )\n",
    "\n",
    "        self.fc = nn.Linear(800, 10)\n",
    "\n",
    "    def forward(self, x):\n",
    "        x = self.features(x)\n",
    "        x = x.view(-1, 32 * 5 * 5)\n",
    "        x = self.fc(x)\n",
    "\n",
    "        return x"
   ],
   "metadata": {
    "id": "bA5ZytDscalZ",
    "ExecuteTime": {
     "start_time": "2024-03-21T00:52:06.452075643Z"
    }
   },
   "execution_count": null,
   "outputs": []
  },
  {
   "cell_type": "code",
   "source": [
    "model = CustomNN()\n",
    "\n",
    "output = model(images)\n",
    "print(output.size())"
   ],
   "metadata": {
    "colab": {
     "base_uri": "https://localhost:8080/"
    },
    "id": "2aSByURldH5Q",
    "outputId": "4ccf805a-da65-41da-cf34-cdddd0fe798c",
    "ExecuteTime": {
     "start_time": "2024-03-21T00:52:06.452194969Z"
    }
   },
   "execution_count": null,
   "outputs": []
  },
  {
   "cell_type": "code",
   "source": [
    "criterion = nn.CrossEntropyLoss()\n",
    "optimizer = optim.Adam(model.parameters(), lr=0.0001)\n",
    "\n",
    "num_epochs = 10\n",
    "\n",
    "for epoch in range(num_epochs):\n",
    "    loss_per_epoch = 0\n",
    "    for images, label in trainloader:\n",
    "        optimizer.zero_grad()\n",
    "        outputs = model(images)\n",
    "        loss = criterion(outputs, labels)\n",
    "        loss.backward()\n",
    "        optimizer.step()\n",
    "\n",
    "        loss_per_epoch += loss\n",
    "    print(f\"epoch: {epoch}, loss_per_epoch: {loss_per_epoch}\")"
   ],
   "metadata": {
    "id": "lJtCXqCidkCa",
    "ExecuteTime": {
     "start_time": "2024-03-21T00:52:06.452268849Z"
    }
   },
   "execution_count": null,
   "outputs": []
  },
  {
   "cell_type": "code",
   "source": [
    "correct = 0\n",
    "total = 0\n",
    "\n",
    "with torch.no_grad():\n",
    "    for images, label in testloader:\n",
    "        outputs = model(images)\n",
    "        _, predicted = torch.max(outputs.data, 1)\n",
    "        total += labels.size(0)\n",
    "        correct += (predicted == labels).sum().item()\n",
    "print(f\"Test Accuracy: {correct/total}\")"
   ],
   "metadata": {
    "id": "ImeN9yeOdyX6",
    "ExecuteTime": {
     "start_time": "2024-03-21T00:52:06.452353820Z"
    }
   },
   "execution_count": null,
   "outputs": []
  }
 ]
}
