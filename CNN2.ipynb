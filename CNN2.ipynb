{
 "nbformat": 4,
 "nbformat_minor": 0,
 "metadata": {
  "colab": {
   "provenance": []
  },
  "kernelspec": {
   "name": "python3",
   "language": "python",
   "display_name": "Python 3 (ipykernel)"
  },
  "language_info": {
   "name": "python"
  }
 },
 "cells": [
  {
   "cell_type": "code",
   "execution_count": 464,
   "metadata": {
    "id": "8tgxs9pCUcfQ",
    "ExecuteTime": {
     "end_time": "2024-03-21T02:15:54.859775232Z",
     "start_time": "2024-03-21T02:15:54.825565801Z"
    }
   },
   "outputs": [],
   "source": [
    "import torch\n",
    "import torch.nn as nn\n",
    "import torch.nn.functional as F\n",
    "import torch.optim as optim\n",
    "import matplotlib.pyplot as plt\n",
    "import torchvision\n",
    "from torch.utils.data import DataLoader\n",
    "from torchvision import datasets, transforms\n",
    "import numpy as np\n",
    "import random\n",
    "import os\n",
    "import glob"
   ]
  },
  {
   "cell_type": "code",
   "execution_count": 465,
   "outputs": [],
   "source": [
    "torch.cuda.is_available()\n",
    "device = torch.device(\"cuda\")\n"
   ],
   "metadata": {
    "collapsed": false,
    "ExecuteTime": {
     "end_time": "2024-03-21T02:15:54.860375615Z",
     "start_time": "2024-03-21T02:15:54.827750742Z"
    }
   }
  },
  {
   "cell_type": "markdown",
   "source": [
    "# Load The Dataset"
   ],
   "metadata": {
    "id": "VqyE74qeUxo9"
   }
  },
  {
   "cell_type": "code",
   "source": [
    "transform = transforms.Compose([\n",
    "    transforms.ToTensor(),\n",
    "    transforms.Normalize((0.5, 0.5, 0.5), (0.5, 0.5, 0.5))\n",
    "])\n",
    "\n",
    "trainset = datasets.CIFAR10(root='./data', train=True, download=True, transform=transform)\n",
    "trainloader = DataLoader(trainset, batch_size=64, shuffle=True, drop_last = True)\n",
    "\n",
    "testset = datasets.CIFAR10(root='./data', train=False, download=True, transform=transform)\n",
    "testloader = DataLoader(testset, batch_size=64, shuffle=False, drop_last = True)"
   ],
   "metadata": {
    "colab": {
     "base_uri": "https://localhost:8080/"
    },
    "id": "3VLSbmNbUgcN",
    "outputId": "6d928a4a-e6fb-4901-af6f-31eceae0e846",
    "ExecuteTime": {
     "end_time": "2024-03-21T02:15:55.619157091Z",
     "start_time": "2024-03-21T02:15:54.871967943Z"
    }
   },
   "execution_count": 466,
   "outputs": [
    {
     "name": "stdout",
     "output_type": "stream",
     "text": [
      "Files already downloaded and verified\n",
      "Files already downloaded and verified\n"
     ]
    }
   ]
  },
  {
   "cell_type": "markdown",
   "source": [],
   "metadata": {
    "collapsed": false
   }
  },
  {
   "cell_type": "code",
   "source": [
    "first_batch = next(iter(trainloader))\n",
    "\n",
    "print(first_batch[0].size())\n",
    "print(first_batch[1].size())"
   ],
   "metadata": {
    "colab": {
     "base_uri": "https://localhost:8080/"
    },
    "id": "wBNQt1tzUs8V",
    "outputId": "4833c76e-ff2f-4d9d-a4f5-d6e31adc286e",
    "ExecuteTime": {
     "end_time": "2024-03-21T02:15:55.626057218Z",
     "start_time": "2024-03-21T02:15:55.614754095Z"
    }
   },
   "execution_count": 467,
   "outputs": [
    {
     "name": "stdout",
     "output_type": "stream",
     "text": [
      "torch.Size([64, 3, 32, 32])\n",
      "torch.Size([64])\n"
     ]
    }
   ]
  },
  {
   "cell_type": "code",
   "source": [
    "images = first_batch[0]\n",
    "labels = first_batch[1]"
   ],
   "metadata": {
    "id": "-0DT68m-WL8j",
    "ExecuteTime": {
     "end_time": "2024-03-21T02:15:55.626102353Z",
     "start_time": "2024-03-21T02:15:55.622436778Z"
    }
   },
   "execution_count": 468,
   "outputs": []
  },
  {
   "cell_type": "code",
   "source": [
    "plt.imshow(np.transpose((images[0] + 1) /2, (1,2,0)))\n",
    "plt.show()"
   ],
   "metadata": {
    "colab": {
     "base_uri": "https://localhost:8080/",
     "height": 430
    },
    "id": "RoO_ffsLWGl2",
    "outputId": "c9fe04d6-192c-49a4-a467-a63e5103c7b8",
    "ExecuteTime": {
     "end_time": "2024-03-21T02:15:55.667903947Z",
     "start_time": "2024-03-21T02:15:55.624291727Z"
    }
   },
   "execution_count": 469,
   "outputs": [
    {
     "data": {
      "text/plain": "<Figure size 640x480 with 1 Axes>",
      "image/png": "[encoded data removed]"
     },
     "metadata": {},
     "output_type": "display_data"
    }
   ]
  },
  {
   "cell_type": "markdown",
   "source": [
    "# Design your own Network"
   ],
   "metadata": {
    "id": "H-DDO2TJaDpd"
   }
  },
  {
   "cell_type": "code",
   "source": [
    "class CustomNN(nn.Module):\n",
    "    def __init__(self):\n",
    "        super(CustomNN, self).__init__()\n",
    "        self.features = nn.Sequential(\n",
    "            nn.Conv2d(3, 16, kernel_size = 3),\n",
    "            nn.ReLU(inplace=True),\n",
    "            nn.MaxPool2d(2, 2),\n",
    "            nn.Conv2d(16, 32, kernel_size = 3),\n",
    "            nn.ReLU(inplace=True),\n",
    "            nn.Conv2d(32, 64, kernel_size = 1),\n",
    "            nn.ReLU(inplace=True),\n",
    "            nn.MaxPool2d(2, 2)\n",
    "        )\n",
    "\n",
    "        self.fc_1 = nn.Linear(64 * 6 * 6, 512)\n",
    "        nn.ReLU(inplace=True)\n",
    "        self.fc_2 = nn.Linear(512, 128)\n",
    "        nn.ReLU(inplace=True)\n",
    "        self.fc_3 = nn.Linear(128, 10)\n",
    "        nn.ReLU(inplace=True)\n",
    "        \n",
    "    def forward(self, x):\n",
    "        x = self.features(x)\n",
    "        x = x.view(-1, 64 * 6 * 6)\n",
    "        x = F.relu(self.fc_1(x))\n",
    "        x = F.relu(self.fc_2(x))\n",
    "        x = self.fc_3(x)\n",
    "        return x"
   ],
   "metadata": {
    "id": "bA5ZytDscalZ",
    "ExecuteTime": {
     "end_time": "2024-03-21T02:15:55.668001080Z",
     "start_time": "2024-03-21T02:15:55.662478852Z"
    }
   },
   "execution_count": 470,
   "outputs": []
  },
  {
   "cell_type": "code",
   "source": [
    "model = CustomNN().to(device)\n",
    "images = images.to(device)  \n",
    "output = model(images)\n",
    "print(output.size())"
   ],
   "metadata": {
    "colab": {
     "base_uri": "https://localhost:8080/"
    },
    "id": "2aSByURldH5Q",
    "outputId": "c42fe995-83ea-45a5-8dd4-a57ffc1b4b54",
    "ExecuteTime": {
     "end_time": "2024-03-21T02:15:55.682386726Z",
     "start_time": "2024-03-21T02:15:55.664577411Z"
    }
   },
   "execution_count": 471,
   "outputs": [
    {
     "name": "stdout",
     "output_type": "stream",
     "text": [
      "torch.Size([64, 10])\n"
     ]
    }
   ]
  },
  {
   "cell_type": "code",
   "source": [
    "criterion = nn.CrossEntropyLoss()\n",
    "optimizer = optim.Adam(model.parameters(), lr=0.001)\n",
    "\n",
    "num_epochs = 10\n",
    "\n",
    "for epoch in range(num_epochs):\n",
    "    model.train()\n",
    "    loss_per_epoch = 0\n",
    "    for images, labels in trainloader:\n",
    "        images, labels = images.to(device), labels.to(device)\n",
    "        optimizer.zero_grad()\n",
    "        outputs = model(images)\n",
    "        loss = criterion(outputs, labels)\n",
    "        loss.backward()\n",
    "        optimizer.step()\n",
    "        '''for epoch in range(num_epochs):\n",
    "        loss_per_epoch = 0\n",
    "        for images, label in trainloader:\n",
    "            optimizer.zero_grad()\n",
    "            outputs = model(images)\n",
    "            loss = criterion(outputs, labels)\n",
    "            loss.backward()\n",
    "            optimizer.step()'''\n",
    "        loss_per_epoch += loss\n",
    "    print(f\"Epoch {epoch+1}/{num_epochs}, loss_per_epoch: {loss_per_epoch}\")"
   ],
   "metadata": {
    "id": "lJtCXqCidkCa",
    "ExecuteTime": {
     "end_time": "2024-03-21T02:16:32.657219647Z",
     "start_time": "2024-03-21T02:15:55.680759346Z"
    }
   },
   "execution_count": 472,
   "outputs": [
    {
     "name": "stdout",
     "output_type": "stream",
     "text": [
      "Epoch 1/10, Loss: 1.5079920652123329\n",
      "Epoch 2/10, Loss: 1.1310234285805199\n",
      "Epoch 3/10, Loss: 0.9442909972005251\n",
      "Epoch 4/10, Loss: 0.8135031652511616\n",
      "Epoch 5/10, Loss: 0.6928246796665363\n",
      "Epoch 6/10, Loss: 0.5820221971916023\n",
      "Epoch 7/10, Loss: 0.4764783378409057\n",
      "Epoch 8/10, Loss: 0.3755279695197806\n",
      "Epoch 9/10, Loss: 0.2862254568541401\n",
      "Epoch 10/10, Loss: 0.21709288587071068\n"
     ]
    }
   ]
  },
  {
   "cell_type": "code",
   "source": [
    "correct = 0\n",
    "total = 0\n",
    "\n",
    "with torch.no_grad():\n",
    "    for images, labels in testloader:\n",
    "        images, labels = images.to(device), labels.to(device)\n",
    "        outputs = model(images)\n",
    "        _, predicted = torch.max(outputs.data, 1)\n",
    "        total += labels.size(0)\n",
    "        correct += (predicted == labels).sum().item()\n",
    "        '''\n",
    "        with torch.no_grad():\n",
    "            for images, label in testloader:\n",
    "                outputs = model(images)\n",
    "                _, predicted = torch.max(outputs.data, 1)\n",
    "                total += labels.size(0)\n",
    "                correct += (predicted == labels).sum().item()\n",
    "        '''\n",
    "print(f\"Test Accuracy: {correct/total}\")"
   ],
   "metadata": {
    "id": "ImeN9yeOdyX6",
    "ExecuteTime": {
     "end_time": "2024-03-21T02:16:33.257798917Z",
     "start_time": "2024-03-21T02:16:32.657852591Z"
    }
   },
   "execution_count": 473,
   "outputs": [
    {
     "name": "stdout",
     "output_type": "stream",
     "text": [
      "Test Accuracy: 0.6974158653846154\n"
     ]
    }
   ]
  }
 ]
}
