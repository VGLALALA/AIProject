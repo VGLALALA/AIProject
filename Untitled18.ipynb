{
 "nbformat": 4,
 "nbformat_minor": 0,
 "metadata": {
  "colab": {
   "provenance": []
  },
  "kernelspec": {
   "name": "python3",
   "language": "python",
   "display_name": "Python 3 (ipykernel)"
  },
  "language_info": {
   "name": "python"
  }
 },
 "cells": [
  {
   "cell_type": "code",
   "execution_count": 70,
   "metadata": {
    "id": "8tgxs9pCUcfQ",
    "ExecuteTime": {
     "end_time": "2024-03-21T01:25:43.884859384Z",
     "start_time": "2024-03-21T01:25:43.863932240Z"
    }
   },
   "outputs": [],
   "source": [
    "import torch\n",
    "import torch.nn as nn\n",
    "import torch.nn.functional as F\n",
    "import torch.optim as optim\n",
    "import matplotlib.pyplot as plt\n",
    "import torchvision\n",
    "from torch.utils.data import DataLoader\n",
    "from torchvision import datasets, transforms\n",
    "import numpy as np\n",
    "import random\n",
    "import os\n",
    "import glob"
   ]
  },
  {
   "cell_type": "markdown",
   "source": [
    "# Load The Dataset"
   ],
   "metadata": {
    "id": "VqyE74qeUxo9"
   }
  },
  {
   "cell_type": "code",
   "source": [
    "transform = transforms.Compose([\n",
    "    transforms.ToTensor(),\n",
    "    transforms.Normalize((0.5, 0.5, 0.5), (0.5, 0.5, 0.5))\n",
    "])\n",
    "\n",
    "trainset = datasets.CIFAR10(root='./data', train=True, download=True, transform=transform)\n",
    "trainloader = DataLoader(trainset, batch_size=64, shuffle=True, drop_last = True)\n",
    "\n",
    "testset = datasets.CIFAR10(root='./data', train=False, download=True, transform=transform)\n",
    "testloader = DataLoader(testset, batch_size=64, shuffle=False, drop_last = True)"
   ],
   "metadata": {
    "colab": {
     "base_uri": "https://localhost:8080/"
    },
    "id": "3VLSbmNbUgcN",
    "outputId": "6d928a4a-e6fb-4901-af6f-31eceae0e846",
    "ExecuteTime": {
     "end_time": "2024-03-21T01:25:44.613768250Z",
     "start_time": "2024-03-21T01:25:43.864069479Z"
    }
   },
   "execution_count": 71,
   "outputs": [
    {
     "name": "stdout",
     "output_type": "stream",
     "text": [
      "Files already downloaded and verified\n",
      "Files already downloaded and verified\n"
     ]
    }
   ]
  },
  {
   "cell_type": "code",
   "source": [
    "first_batch = next(iter(trainloader))\n",
    "\n",
    "print(first_batch[0].size())\n",
    "print(first_batch[1].size())"
   ],
   "metadata": {
    "colab": {
     "base_uri": "https://localhost:8080/"
    },
    "id": "wBNQt1tzUs8V",
    "outputId": "4833c76e-ff2f-4d9d-a4f5-d6e31adc286e",
    "ExecuteTime": {
     "end_time": "2024-03-21T01:25:44.626227694Z",
     "start_time": "2024-03-21T01:25:44.612487193Z"
    }
   },
   "execution_count": 72,
   "outputs": [
    {
     "name": "stdout",
     "output_type": "stream",
     "text": [
      "torch.Size([64, 3, 32, 32])\n",
      "torch.Size([64])\n"
     ]
    }
   ]
  },
  {
   "cell_type": "code",
   "source": [
    "images = first_batch[0]\n",
    "labels = first_batch[1]"
   ],
   "metadata": {
    "id": "-0DT68m-WL8j",
    "ExecuteTime": {
     "end_time": "2024-03-21T01:25:44.626379300Z",
     "start_time": "2024-03-21T01:25:44.619944637Z"
    }
   },
   "execution_count": 73,
   "outputs": []
  },
  {
   "cell_type": "code",
   "source": [
    "plt.imshow(np.transpose((images[0] + 1) /2, (1,2,0)))\n",
    "plt.show()"
   ],
   "metadata": {
    "colab": {
     "base_uri": "https://localhost:8080/",
     "height": 430
    },
    "id": "RoO_ffsLWGl2",
    "outputId": "c9fe04d6-192c-49a4-a467-a63e5103c7b8",
    "ExecuteTime": {
     "end_time": "2024-03-21T01:25:44.659708410Z",
     "start_time": "2024-03-21T01:25:44.621771154Z"
    }
   },
   "execution_count": 74,
   "outputs": [
    {
     "data": {
      "text/plain": "<Figure size 640x480 with 1 Axes>",
      "image/png": "[encoded data removed]"
     },
     "metadata": {},
     "output_type": "display_data"
    }
   ]
  },
  {
   "cell_type": "markdown",
   "source": [
    "# Convs example"
   ],
   "metadata": {
    "id": "ioh5SMP_ZDOb"
   }
  },
  {
   "cell_type": "code",
   "source": [
    "conv_1 = nn.Conv2d(3, 10, kernel_size = 3)\n",
    "                # (filter channels, how many filter is used, filter size)\n",
    "\n",
    "conv_1_out = conv_1(images)         # image = [3, 32, 32]\n",
    "                                    # conv_1_out = [10, 30, 30] (32 - 3)/ 1 + 1 = 30\n",
    "\n",
    "print(conv_1_out.size())"
   ],
   "metadata": {
    "colab": {
     "base_uri": "https://localhost:8080/"
    },
    "id": "SRGQF2OSW3ob",
    "outputId": "9082971c-34fa-4aa5-f345-73d86db49032",
    "ExecuteTime": {
     "end_time": "2024-03-21T01:25:44.672602173Z",
     "start_time": "2024-03-21T01:25:44.658471135Z"
    }
   },
   "execution_count": 75,
   "outputs": [
    {
     "name": "stdout",
     "output_type": "stream",
     "text": [
      "torch.Size([64, 10, 30, 30])\n"
     ]
    }
   ]
  },
  {
   "cell_type": "code",
   "source": [
    "conv_2 = nn.Conv2d(3, 5, kernel_size = 5)\n",
    "\n",
    "conv_2_out = conv_2(images)         # conv_2_out = [5, 28, 28]\n",
    "\n",
    "print(conv_2_out.size())"
   ],
   "metadata": {
    "colab": {
     "base_uri": "https://localhost:8080/"
    },
    "id": "DxDzrVVQYsK-",
    "outputId": "bd281580-9a57-4b5f-d986-502d0404ec68",
    "ExecuteTime": {
     "end_time": "2024-03-21T01:25:44.672855301Z",
     "start_time": "2024-03-21T01:25:44.670236619Z"
    }
   },
   "execution_count": 76,
   "outputs": [
    {
     "name": "stdout",
     "output_type": "stream",
     "text": [
      "torch.Size([64, 5, 28, 28])\n"
     ]
    }
   ]
  },
  {
   "cell_type": "code",
   "source": [
    "conv_3 = nn.Conv2d(3, 5, kernel_size = 3, stride = 1)\n",
    "\n",
    "conv_3_out = conv_3(images)         # [5, 30, 30]\n",
    "\n",
    "print(conv_3_out.size())"
   ],
   "metadata": {
    "colab": {
     "base_uri": "https://localhost:8080/"
    },
    "id": "SwX_fnv1YxsN",
    "outputId": "a45c18ff-a77e-467f-e340-090708fd20e9",
    "ExecuteTime": {
     "end_time": "2024-03-21T01:25:44.672944810Z",
     "start_time": "2024-03-21T01:25:44.670312523Z"
    }
   },
   "execution_count": 77,
   "outputs": [
    {
     "name": "stdout",
     "output_type": "stream",
     "text": [
      "torch.Size([64, 5, 30, 30])\n"
     ]
    }
   ]
  },
  {
   "cell_type": "code",
   "source": [
    "conv_4 = nn.Conv2d(3, 5, kernel_size = 4, stride = 2, padding = 1)\n",
    "\n",
    "conv_4_out = conv_4(images)         # (32 - 4 + 2 * 1) / 2 + 1 = 16\n",
    "\n",
    "print(conv_4_out.size())"
   ],
   "metadata": {
    "colab": {
     "base_uri": "https://localhost:8080/"
    },
    "id": "q7AfJtE-Y3Ao",
    "outputId": "24ae0ba7-0907-4f57-b4c4-17d6289124b8",
    "ExecuteTime": {
     "end_time": "2024-03-21T01:25:44.673026164Z",
     "start_time": "2024-03-21T01:25:44.670345545Z"
    }
   },
   "execution_count": 78,
   "outputs": [
    {
     "name": "stdout",
     "output_type": "stream",
     "text": [
      "torch.Size([64, 5, 16, 16])\n"
     ]
    }
   ]
  },
  {
   "cell_type": "markdown",
   "source": [
    "## Exercise"
   ],
   "metadata": {
    "id": "48881kLzZFtq"
   }
  },
  {
   "cell_type": "code",
   "source": [
    "conv1 = nn.Conv2d(3, 6, kernel_size = 5)\n",
    "conv2 = nn.Conv2d(6, 16, kernel_size = 5)"
   ],
   "metadata": {
    "id": "hvvNvcdFZIqz",
    "ExecuteTime": {
     "end_time": "2024-03-21T01:25:44.673075467Z",
     "start_time": "2024-03-21T01:25:44.670372265Z"
    }
   },
   "execution_count": 79,
   "outputs": []
  },
  {
   "cell_type": "code",
   "source": [
    "conv_1_out = conv1(images)              # image (3, 32, 32)     -> (6, 28, 28)\n",
    "conv_2_out = conv2(conv_1_out)          # (6, 28, 28)    -> (16, 24, 24)\n",
    "\n",
    "print(conv_2_out.size())"
   ],
   "metadata": {
    "colab": {
     "base_uri": "https://localhost:8080/"
    },
    "id": "dyztWuXlZURh",
    "outputId": "ae9267f1-44e5-427c-eee9-8f10d083437e",
    "ExecuteTime": {
     "end_time": "2024-03-21T01:25:44.718077967Z",
     "start_time": "2024-03-21T01:25:44.670924828Z"
    }
   },
   "execution_count": 80,
   "outputs": [
    {
     "name": "stdout",
     "output_type": "stream",
     "text": [
      "torch.Size([64, 16, 24, 24])\n"
     ]
    }
   ]
  },
  {
   "cell_type": "markdown",
   "source": [
    "# Pooling"
   ],
   "metadata": {
    "id": "xfgH9qrOZgF_"
   }
  },
  {
   "cell_type": "code",
   "source": [
    "pool_1 = nn.MaxPool2d(2, 2)\n",
    "pool_1_out = pool_1(images)         # [64, 3, 32, 32]\n",
    "\n",
    "print(pool_1_out.size())"
   ],
   "metadata": {
    "colab": {
     "base_uri": "https://localhost:8080/"
    },
    "id": "XYv-g4IOZhjJ",
    "outputId": "ac536bd9-c931-4312-82f2-14732ed71837",
    "ExecuteTime": {
     "end_time": "2024-03-21T01:25:44.718266082Z",
     "start_time": "2024-03-21T01:25:44.691876038Z"
    }
   },
   "execution_count": 81,
   "outputs": [
    {
     "name": "stdout",
     "output_type": "stream",
     "text": [
      "torch.Size([64, 3, 16, 16])\n"
     ]
    }
   ]
  },
  {
   "cell_type": "markdown",
   "source": [
    "# Design your own Network"
   ],
   "metadata": {
    "id": "H-DDO2TJaDpd"
   }
  },
  {
   "cell_type": "code",
   "source": [
    "conv_1 = nn.Conv2d(3, 16, kernel_size = 3)\n",
    "pool_1 = nn.MaxPool2d(2, 2)\n",
    "conv_2 = nn.Conv2d(16, 32, kernel_size = 3)\n",
    "conv_3 = nn.Conv2d(32, 64, kernel_size = 1)\n",
    "pool_3 = nn.MaxPool2d(2, 2)\n",
    "\n",
    "\n",
    "x = conv_1(images)              # conv1_out [64, 16, 28, 28]\n",
    "x = pool_1(x)           # pool1_out [64, 16, 14, 14]\n",
    "\n",
    "x = conv_2(x)           # conv2_out [64, 32, 10, 10]\n",
    "x = conv_3(x)\n",
    "x = pool_3(x)\n",
    "\n",
    "\n",
    "print(x.size())"
   ],
   "metadata": {
    "colab": {
     "base_uri": "https://localhost:8080/"
    },
    "id": "ngHpXh7xaG6W",
    "outputId": "878f60c7-9b5a-4d9c-9c38-f8106552bfbe",
    "ExecuteTime": {
     "end_time": "2024-03-21T01:25:44.718418609Z",
     "start_time": "2024-03-21T01:25:44.691961208Z"
    }
   },
   "execution_count": 82,
   "outputs": [
    {
     "name": "stdout",
     "output_type": "stream",
     "text": [
      "torch.Size([64, 64, 6, 6])\n"
     ]
    }
   ]
  },
  {
   "cell_type": "code",
   "source": [
    "class CustomNN(nn.Module):\n",
    "    def __init__(self):\n",
    "        super(CustomNN, self).__init__()\n",
    "        self.features = nn.Sequential(\n",
    "            nn.Conv2d(3, 16, kernel_size = 3),\n",
    "            nn.ReLU(inplace=True),\n",
    "            nn.MaxPool2d(2, 2),\n",
    "            nn.Conv2d(16, 32, kernel_size = 3),\n",
    "            nn.ReLU(inplace=True),\n",
    "            nn.Conv2d(32, 64, kernel_size = 1),\n",
    "            nn.MaxPool2d(2, 2)\n",
    "        )\n",
    "\n",
    "        self.fc_1 = nn.Linear(64 * 6 * 6, 512)\n",
    "        self.fc_2 = nn.Linear(512, 128)\n",
    "        self.fc_3 = nn.Linear(128, 10)\n",
    "\n",
    "    def forward(self, x):\n",
    "        x = self.features(x)\n",
    "        x = x.view(-1, 64 * 6 * 6)\n",
    "\n",
    "        x = self.fc_1(x)\n",
    "        x = self.fc_2(x)\n",
    "        x = self.fc_3(x)\n",
    "\n",
    "        return x"
   ],
   "metadata": {
    "id": "bA5ZytDscalZ",
    "ExecuteTime": {
     "end_time": "2024-03-21T01:25:44.718468554Z",
     "start_time": "2024-03-21T01:25:44.691992618Z"
    }
   },
   "execution_count": 83,
   "outputs": []
  },
  {
   "cell_type": "code",
   "source": [
    "model = CustomNN()\n",
    "\n",
    "output = model(images)\n",
    "print(output.size())"
   ],
   "metadata": {
    "colab": {
     "base_uri": "https://localhost:8080/"
    },
    "id": "2aSByURldH5Q",
    "outputId": "c42fe995-83ea-45a5-8dd4-a57ffc1b4b54",
    "ExecuteTime": {
     "end_time": "2024-03-21T01:25:44.718540950Z",
     "start_time": "2024-03-21T01:25:44.692020180Z"
    }
   },
   "execution_count": 84,
   "outputs": [
    {
     "name": "stdout",
     "output_type": "stream",
     "text": [
      "torch.Size([64, 10])\n"
     ]
    }
   ]
  },
  {
   "cell_type": "code",
   "source": [
    "criterion = nn.CrossEntropyLoss()\n",
    "optimizer = optim.Adam(model.parameters(), lr=0.0001)\n",
    "\n",
    "num_epochs = 10\n",
    "\n",
    "for epoch in range(num_epochs):\n",
    "    loss_per_epoch = 0\n",
    "    for images, label in trainloader:\n",
    "        optimizer.zero_grad()\n",
    "        outputs = model(images)\n",
    "        loss = criterion(outputs, labels)\n",
    "        loss.backward()\n",
    "        optimizer.step()\n",
    "\n",
    "        loss_per_epoch += loss\n",
    "    print(f\"epoch: {epoch}, loss_per_epoch: {loss_per_epoch}\")"
   ],
   "metadata": {
    "id": "lJtCXqCidkCa",
    "ExecuteTime": {
     "end_time": "2024-03-21T01:27:04.038292122Z",
     "start_time": "2024-03-21T01:25:44.692074222Z"
    }
   },
   "execution_count": 85,
   "outputs": [
    {
     "name": "stdout",
     "output_type": "stream",
     "text": [
      "epoch: 0, loss_per_epoch: 1724.4722900390625\n",
      "epoch: 1, loss_per_epoch: 1723.9991455078125\n",
      "epoch: 2, loss_per_epoch: 1723.88037109375\n",
      "epoch: 3, loss_per_epoch: 1723.8892822265625\n",
      "epoch: 4, loss_per_epoch: 1723.8509521484375\n",
      "epoch: 5, loss_per_epoch: 1723.86962890625\n",
      "epoch: 6, loss_per_epoch: 1723.824462890625\n",
      "epoch: 7, loss_per_epoch: 1723.8636474609375\n",
      "epoch: 8, loss_per_epoch: 1723.8653564453125\n",
      "epoch: 9, loss_per_epoch: 1723.83349609375\n"
     ]
    }
   ]
  },
  {
   "cell_type": "code",
   "source": [
    "correct = 0\n",
    "total = 0\n",
    "\n",
    "with torch.no_grad():\n",
    "    for images, label in testloader:\n",
    "        outputs = model(images)\n",
    "        _, predicted = torch.max(outputs.data, 1)\n",
    "        total += labels.size(0)\n",
    "        correct += (predicted == labels).sum().item()\n",
    "print(f\"Test Accuracy: {correct/total}\")"
   ],
   "metadata": {
    "id": "ImeN9yeOdyX6",
    "ExecuteTime": {
     "end_time": "2024-03-21T01:27:04.869823139Z",
     "start_time": "2024-03-21T01:27:04.039492949Z"
    }
   },
   "execution_count": 86,
   "outputs": [
    {
     "name": "stdout",
     "output_type": "stream",
     "text": [
      "Test Accuracy: 0.171875\n"
     ]
    }
   ]
  }
 ]
}
