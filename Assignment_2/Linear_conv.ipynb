{
 "nbformat": 4,
 "nbformat_minor": 0,
 "metadata": {
  "colab": {
   "provenance": [],
   "gpuType": "T4"
  },
  "kernelspec": {
   "name": "python3",
   "language": "python",
   "display_name": "Python 3 (ipykernel)"
  },
  "language_info": {
   "name": "python"
  },
  "accelerator": "GPU"
 },
 "cells": [
  {
   "cell_type": "code",
   "execution_count": 57,
   "metadata": {
    "id": "UMstnC2FOc5r",
    "ExecuteTime": {
     "end_time": "2024-03-25T03:14:46.957279372Z",
     "start_time": "2024-03-25T03:14:46.922230415Z"
    }
   },
   "outputs": [],
   "source": [
    "import torch\n",
    "import torch.nn as nn\n",
    "import torch.optim as optim\n",
    "import matplotlib.pyplot as plt\n",
    "import torchvision\n",
    "from torch.utils.data import DataLoader\n",
    "from torchvision import datasets, transforms\n",
    "import numpy as np\n",
    "import random\n",
    "import os\n",
    "import glob"
   ]
  },
  {
   "cell_type": "code",
   "source": [
    "def train(criterion, optimizer, model, num_epochs, device):\n",
    "    loss_history = []\n",
    "    test_acc_history = []\n",
    "\n",
    "    for epoch in range(num_epochs):\n",
    "        loss_per_epoch = 0\n",
    "        for images, label in trainloader:\n",
    "            optimizer.zero_grad()\n",
    "\n",
    "            images, label = images.to(device), label.to(device)\n",
    "\n",
    "            outputs = model(images)\n",
    "\n",
    "            loss = criterion(outputs, label)\n",
    "            loss.backward()\n",
    "            optimizer.step()\n",
    "\n",
    "            loss_per_epoch += loss\n",
    "\n",
    "        correct = 0\n",
    "        total = 0\n",
    "\n",
    "        with torch.no_grad():\n",
    "            for images, label in testloader:\n",
    "                images, label = images.to(DEVICE), label.to(DEVICE)\n",
    "                outputs = model(images)\n",
    "                _, predicted = torch.max(outputs.data, 1)\n",
    "                total += label.size(0)\n",
    "                correct += (predicted == label).sum().item()\n",
    "\n",
    "        print(f\"epoch: {epoch}, loss_per_epoch: {loss_per_epoch}, test_accuracy: {correct/total}\")\n",
    "        loss_history.append(loss_per_epoch.cpu().detach().numpy())\n",
    "        test_acc_history.append((correct * 100/total))\n",
    "\n",
    "    return loss_history, test_acc_history"
   ],
   "metadata": {
    "id": "HHunWx7hOfGj",
    "ExecuteTime": {
     "end_time": "2024-03-25T03:14:46.977503418Z",
     "start_time": "2024-03-25T03:14:46.923710655Z"
    }
   },
   "execution_count": 58,
   "outputs": []
  },
  {
   "cell_type": "code",
   "source": [
    "DEVICE = torch.device(\"cuda\")"
   ],
   "metadata": {
    "id": "S9bj6fF5OgTy",
    "ExecuteTime": {
     "end_time": "2024-03-25T03:14:46.997618660Z",
     "start_time": "2024-03-25T03:14:46.969699340Z"
    }
   },
   "execution_count": 59,
   "outputs": []
  },
  {
   "cell_type": "code",
   "source": [
    "transform = transforms.Compose([\n",
    "    transforms.ToTensor(),\n",
    "    transforms.Normalize((0.5, 0.5, 0.5), (0.5, 0.5, 0.5))\n",
    "])\n",
    "\n",
    "trainset = datasets.CIFAR10(root='./data', train=True, download=True, transform=transform)\n",
    "trainloader = DataLoader(trainset, batch_size=256, shuffle=True, drop_last = True)\n",
    "\n",
    "testset = datasets.CIFAR10(root='./data', train=False, download=True, transform=transform)\n",
    "testloader = DataLoader(testset, batch_size=256, shuffle=False, drop_last = True)"
   ],
   "metadata": {
    "colab": {
     "base_uri": "https://localhost:8080/"
    },
    "id": "gJg11OkZOhWD",
    "outputId": "a28b2e7b-c4e9-479f-b9c4-1e994a4f4a40",
    "ExecuteTime": {
     "end_time": "2024-03-25T03:14:47.917881266Z",
     "start_time": "2024-03-25T03:14:46.969829886Z"
    }
   },
   "execution_count": 60,
   "outputs": [
    {
     "name": "stdout",
     "output_type": "stream",
     "text": [
      "Files already downloaded and verified\n",
      "Files already downloaded and verified\n"
     ]
    }
   ]
  },
  {
   "cell_type": "markdown",
   "source": [
    "## Linear"
   ],
   "metadata": {
    "id": "pubchWw-bOW8"
   }
  },
  {
   "cell_type": "code",
   "source": [
    "class Linear(nn.Module):\n",
    "    def __init__(self):\n",
    "        super(Linear, self).__init__()\n",
    "        self.classifier = nn.Sequential(\n",
    "            nn.Linear (32 * 32 * 3, 1000),          # 3072 -> 1000          /3\n",
    "            nn.ReLU(inplace=True),\n",
    "            nn.Linear (1000, 100),                  # 1000 -> 100       /10\n",
    "            nn.ReLU(inplace=True),\n",
    "            nn.Linear (100, 10),                    # 100 -> 10         /10\n",
    "        )\n",
    "    def forward(self, x):\n",
    "        x = x.view(256, 32 * 32 * 3)\n",
    "        x = self.classifier(x)\n",
    "\n",
    "        return x"
   ],
   "metadata": {
    "id": "rl-hh1VQOiXW",
    "ExecuteTime": {
     "end_time": "2024-03-25T03:14:47.918125376Z",
     "start_time": "2024-03-25T03:14:47.917764165Z"
    }
   },
   "execution_count": 61,
   "outputs": []
  },
  {
   "cell_type": "code",
   "source": [
    "'''model_1 = Linear()\n",
    "model_1 = model_1.to(DEVICE)\n",
    "\n",
    "criterion = nn.CrossEntropyLoss()\n",
    "optimizer = optim.Adam(model_1.parameters(), lr=0.0005)\n",
    "\n",
    "num_epochs = 10'''"
   ],
   "metadata": {
    "colab": {
     "base_uri": "https://localhost:8080/",
     "height": 53
    },
    "id": "GLt3OICgOkAz",
    "outputId": "38a0c224-98ea-4e7c-e4dd-5be27a067a71",
    "ExecuteTime": {
     "end_time": "2024-03-25T03:14:47.918835654Z",
     "start_time": "2024-03-25T03:14:47.918012363Z"
    }
   },
   "execution_count": 62,
   "outputs": [
    {
     "data": {
      "text/plain": "'model_1 = Linear()\\nmodel_1 = model_1.to(DEVICE)\\n\\ncriterion = nn.CrossEntropyLoss()\\noptimizer = optim.Adam(model_1.parameters(), lr=0.0005)\\n\\nnum_epochs = 10'"
     },
     "execution_count": 62,
     "metadata": {},
     "output_type": "execute_result"
    }
   ]
  },
  {
   "cell_type": "code",
   "source": [
    "'''print(\"model_1 (linear) network training\")\n",
    "loss_history, test_acc_history = train(criterion, optimizer, model_1, num_epochs = num_epochs, device = DEVICE)'''"
   ],
   "metadata": {
    "colab": {
     "base_uri": "https://localhost:8080/",
     "height": 35
    },
    "id": "P-D1djs5Olop",
    "outputId": "e13709cb-b13a-4618-dc5e-2fd8e00745bc",
    "ExecuteTime": {
     "end_time": "2024-03-25T03:14:47.919022226Z",
     "start_time": "2024-03-25T03:14:47.918054873Z"
    }
   },
   "execution_count": 63,
   "outputs": [
    {
     "data": {
      "text/plain": "'print(\"model_1 (linear) network training\")\\nloss_history, test_acc_history = train(criterion, optimizer, model_1, num_epochs = num_epochs, device = DEVICE)'"
     },
     "execution_count": 63,
     "metadata": {},
     "output_type": "execute_result"
    }
   ]
  },
  {
   "cell_type": "code",
   "source": [
    "'''plt.plot(list(range(num_epochs)), loss_history)\n",
    "plt.plot(list(range(num_epochs)), test_acc_history)\n",
    "plt.title(\"Traning Loss History\")\n",
    "plt.show()'''"
   ],
   "metadata": {
    "colab": {
     "base_uri": "https://localhost:8080/",
     "height": 35
    },
    "id": "y0AIzibyOm8-",
    "outputId": "30fce5b3-a072-4d34-d9c9-e9cd02c4279e",
    "ExecuteTime": {
     "end_time": "2024-03-25T03:14:47.919202896Z",
     "start_time": "2024-03-25T03:14:47.918085631Z"
    }
   },
   "execution_count": 64,
   "outputs": [
    {
     "data": {
      "text/plain": "'plt.plot(list(range(num_epochs)), loss_history)\\nplt.plot(list(range(num_epochs)), test_acc_history)\\nplt.title(\"Traning Loss History\")\\nplt.show()'"
     },
     "execution_count": 64,
     "metadata": {},
     "output_type": "execute_result"
    }
   ]
  },
  {
   "cell_type": "markdown",
   "source": [
    "# Conv"
   ],
   "metadata": {
    "id": "Z0IcnSiZbP2T"
   }
  },
  {
   "cell_type": "code",
   "source": [
    "class Conv_1(nn.Module):\n",
    "    def __init__(self):\n",
    "        super(Conv_1, self).__init__()\n",
    "        self.feature = nn.Sequential(\n",
    "            nn.Conv2d(3, 96, kernel_size = 5, stride = 1),              # (3 ,32, 32) -> (96, 28, 28)\n",
    "            nn.ReLU(inplace=True),\n",
    "\n",
    "                                              # (96, 14, 14)\n",
    "\n",
    "            nn.Conv2d(96, 128, kernel_size = 3),                        # (96, 14, 14) -> (128, 12, 12)\n",
    "            nn.ReLU(inplace=True),\n",
    "            \n",
    "            nn.MaxPool2d(2, 2),\n",
    "            \n",
    "            nn.Conv2d(128, 192, kernel_size = 3),                        # (128, 12, 12) -> (192, 10, 10)\n",
    "            nn.ReLU(inplace=True),\n",
    "                                                         # (192, 10, 10) -> (192, 5, 5)\n",
    "            \n",
    "            nn.Conv2d(192, 256, kernel_size = 3, padding = 1),              # (192, 5, 5) -> (256, 5, 5) 5-3 + 2*1 + 1 \n",
    "            nn.ReLU(inplace=True),\n",
    "            \n",
    "            nn.Conv2d(256, 512, kernel_size = 3, padding = 1),             # (256, 5, 5) -> (512, 5, 5)\n",
    "            nn.ReLU(inplace=True),\n",
    "            nn.MaxPool2d(2, 2)\n",
    "            \n",
    "            \n",
    "            # nn.Conv2d(3, 96, kernel_size = 5, stride = 1),              # (3 ,32, 32) -> (96, 28, 28)\n",
    "            # nn.ReLU(inplace=True),\n",
    "            # \n",
    "            # nn.MaxPool2d(2, 2),                                         # (96, 14, 14)\n",
    "            # \n",
    "            # nn.Conv2d(96, 128, kernel_size = 3),                        # (96, 14, 14) -> (128, 12, 12)\n",
    "            # nn.ReLU(inplace=True),\n",
    "            # \n",
    "            # nn.Conv2d(128, 192, kernel_size = 3),                        # (128, 12, 12) -> (192, 10, 10)\n",
    "            # nn.ReLU(inplace=True),\n",
    "            # nn.MaxPool2d(2, 2),                                             # (192, 10, 10) -> (192, 5, 5)\n",
    "            # \n",
    "            # nn.Conv2d(192, 256, kernel_size = 3, padding = 1),              # (192, 5, 5) -> (256, 5, 5) 5-3 + 2*1 + 1 \n",
    "            # nn.ReLU(inplace=True),\n",
    "            # \n",
    "            # nn.Conv2d(256, 512, kernel_size = 3, padding = 1),             # (256, 5, 5) -> (512, 5, 5)\n",
    "            # nn.ReLU(inplace=True),\n",
    "            \n",
    "        )\n",
    "\n",
    "        self.classifier = nn.Sequential(\n",
    "            nn.Linear (512 * 5 * 5, 4096),         # 18816 => 4096\n",
    "            nn.ReLU(inplace=True),\n",
    "            nn.Linear (4096, 1000),                 # 4096 => 1000\n",
    "            nn.ReLU(inplace=True),\n",
    "            nn.Linear (1000, 10),                   # 1000 => 10\n",
    "        )\n",
    "    def forward(self, x):\n",
    "\n",
    "        x = self.feature(x)\n",
    "        x = x.view(256, 512 * 5 * 5)\n",
    "        x = self.classifier(x)\n",
    "\n",
    "        return x"
   ],
   "metadata": {
    "id": "G1kl4rSSbRtf",
    "ExecuteTime": {
     "end_time": "2024-03-25T03:14:47.919676259Z",
     "start_time": "2024-03-25T03:14:47.918113082Z"
    }
   },
   "execution_count": 65,
   "outputs": []
  },
  {
   "cell_type": "code",
   "source": [
    "model_2 = Conv_1()\n",
    "model_2 = model_2.to(DEVICE)\n",
    "\n",
    "criterion = nn.CrossEntropyLoss()\n",
    "optimizer = optim.Adam(model_2.parameters(), lr=0.0005)\n",
    "\n",
    "num_epochs = 10"
   ],
   "metadata": {
    "id": "cZc5YGAeb83_",
    "ExecuteTime": {
     "end_time": "2024-03-25T03:14:48.118745706Z",
     "start_time": "2024-03-25T03:14:47.918180309Z"
    }
   },
   "execution_count": 66,
   "outputs": []
  },
  {
   "cell_type": "code",
   "source": [
    "print(\"model_2 (conv) network training\")\n",
    "loss_history, test_acc_history = train(criterion, optimizer, model_2, num_epochs = num_epochs, device = DEVICE)"
   ],
   "metadata": {
    "colab": {
     "base_uri": "https://localhost:8080/"
    },
    "id": "3h4YOZnicA_h",
    "outputId": "69d63bad-c439-42f0-807c-29b78597100f",
    "ExecuteTime": {
     "end_time": "2024-03-25T03:15:33.394550230Z",
     "start_time": "2024-03-25T03:14:48.118912821Z"
    }
   },
   "execution_count": 67,
   "outputs": [
    {
     "name": "stdout",
     "output_type": "stream",
     "text": [
      "model_2 (conv) network training\n",
      "epoch: 0, loss_per_epoch: 317.41168212890625, test_accuracy: 0.5174278846153846\n",
      "epoch: 1, loss_per_epoch: 221.9289093017578, test_accuracy: 0.6481370192307693\n",
      "epoch: 2, loss_per_epoch: 172.10081481933594, test_accuracy: 0.6986177884615384\n",
      "epoch: 3, loss_per_epoch: 134.92633056640625, test_accuracy: 0.7428886217948718\n",
      "epoch: 4, loss_per_epoch: 102.88710021972656, test_accuracy: 0.7623197115384616\n",
      "epoch: 5, loss_per_epoch: 77.83731079101562, test_accuracy: 0.7770432692307693\n",
      "epoch: 6, loss_per_epoch: 51.404754638671875, test_accuracy: 0.7701322115384616\n",
      "epoch: 7, loss_per_epoch: 31.857763290405273, test_accuracy: 0.7739383012820513\n",
      "epoch: 8, loss_per_epoch: 19.191099166870117, test_accuracy: 0.7799479166666666\n",
      "epoch: 9, loss_per_epoch: 13.41459846496582, test_accuracy: 0.7736378205128205\n"
     ]
    }
   ]
  },
  {
   "cell_type": "code",
   "source": [
    "plt.plot(list(range(num_epochs)), loss_history)\n",
    "plt.plot(list(range(num_epochs)), test_acc_history)\n",
    "plt.title(\"Traning Loss History\")\n",
    "plt.show()"
   ],
   "metadata": {
    "colab": {
     "base_uri": "https://localhost:8080/",
     "height": 452
    },
    "id": "z0rfGqnxcCiU",
    "outputId": "11cd9727-5c57-4402-d492-501eb513d6ac",
    "ExecuteTime": {
     "end_time": "2024-03-25T03:15:33.439380280Z",
     "start_time": "2024-03-25T03:15:33.394921740Z"
    }
   },
   "execution_count": 68,
   "outputs": [
    {
     "data": {
      "text/plain": "<Figure size 640x480 with 1 Axes>",
      "image/png": "[encoded data removed]"
     },
     "metadata": {},
     "output_type": "display_data"
    }
   ]
  }
 ]
}
