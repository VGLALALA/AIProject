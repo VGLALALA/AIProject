{
 "nbformat": 4,
 "nbformat_minor": 0,
 "metadata": {
  "colab": {
   "provenance": []
  },
  "kernelspec": {
   "name": "python3",
   "language": "python",
   "display_name": "Python 3 (ipykernel)"
  },
  "language_info": {
   "name": "python"
  }
 },
 "cells": [
  {
   "cell_type": "code",
   "execution_count": 62,
   "metadata": {
    "id": "UMstnC2FOc5r",
    "ExecuteTime": {
     "end_time": "2024-03-25T02:19:31.069985963Z",
     "start_time": "2024-03-25T02:19:31.027603433Z"
    }
   },
   "outputs": [],
   "source": [
    "import torch\n",
    "import torch.nn as nn\n",
    "import torch.optim as optim\n",
    "import matplotlib.pyplot as plt\n",
    "import torchvision\n",
    "from torch.utils.data import DataLoader\n",
    "from torchvision import datasets, transforms\n",
    "import numpy as np\n",
    "import random\n",
    "import os\n",
    "import glob"
   ]
  },
  {
   "cell_type": "code",
   "source": [
    "def train(criterion, optimizer, model, num_epochs, device):\n",
    "    loss_history = []\n",
    "    test_acc_history = []\n",
    "\n",
    "    for epoch in range(num_epochs):\n",
    "        loss_per_epoch = 0\n",
    "        for images, label in trainloader:\n",
    "            optimizer.zero_grad()\n",
    "\n",
    "            images, label = images.to(device), label.to(device)\n",
    "\n",
    "            outputs = model(images)\n",
    "\n",
    "            loss = criterion(outputs, label)\n",
    "            loss.backward()\n",
    "            optimizer.step()\n",
    "\n",
    "            loss_per_epoch += loss\n",
    "\n",
    "        correct = 0\n",
    "        total = 0\n",
    "\n",
    "        with torch.no_grad():\n",
    "            for images, label in testloader:\n",
    "                images, label = images.to(DEVICE), label.to(DEVICE)\n",
    "                outputs = model(images)\n",
    "                _, predicted = torch.max(outputs.data, 1)\n",
    "                total += label.size(0)\n",
    "                correct += (predicted == label).sum().item()\n",
    "\n",
    "        print(f\"epoch: {epoch}, loss_per_epoch: {loss_per_epoch}, test_accuracy: {correct/total}\")\n",
    "        loss_history.append(loss_per_epoch.cpu().detach().numpy())\n",
    "        test_acc_history.append((correct * 100/total))\n",
    "\n",
    "    return loss_history, test_acc_history"
   ],
   "metadata": {
    "id": "HHunWx7hOfGj",
    "ExecuteTime": {
     "end_time": "2024-03-25T02:19:31.070263756Z",
     "start_time": "2024-03-25T02:19:31.069878200Z"
    }
   },
   "execution_count": 63,
   "outputs": []
  },
  {
   "cell_type": "code",
   "source": [
    "DEVICE = torch.device(\"cuda\")"
   ],
   "metadata": {
    "id": "S9bj6fF5OgTy",
    "ExecuteTime": {
     "end_time": "2024-03-25T02:19:31.070734413Z",
     "start_time": "2024-03-25T02:19:31.070132499Z"
    }
   },
   "execution_count": 64,
   "outputs": []
  },
  {
   "cell_type": "code",
   "source": [
    "transform = transforms.Compose([\n",
    "    transforms.ToTensor(),\n",
    "    transforms.Normalize((0.5, 0.5, 0.5), (0.5, 0.5, 0.5))\n",
    "])\n",
    "\n",
    "trainset = datasets.CIFAR10(root='./Assignment_2/data', train=True, download=True, transform=transform)\n",
    "trainloader = DataLoader(trainset, batch_size=256, shuffle=True, drop_last = True)\n",
    "\n",
    "testset = datasets.CIFAR10(root='./Assignment_2/data', train=False, download=True, transform=transform)\n",
    "testloader = DataLoader(testset, batch_size=256, shuffle=False, drop_last = True)"
   ],
   "metadata": {
    "id": "gJg11OkZOhWD",
    "ExecuteTime": {
     "end_time": "2024-03-25T02:19:31.961594764Z",
     "start_time": "2024-03-25T02:19:31.070210886Z"
    }
   },
   "execution_count": 65,
   "outputs": [
    {
     "name": "stdout",
     "output_type": "stream",
     "text": [
      "Files already downloaded and verified\n",
      "Files already downloaded and verified\n"
     ]
    }
   ]
  },
  {
   "cell_type": "code",
   "source": [
    "class Linear(nn.Module):\n",
    "    def __init__(self):\n",
    "        super(Linear, self).__init__()\n",
    "        self.classifier = nn.Sequential(\n",
    "            nn.Linear(32 * 32 * 3, 8192),\n",
    "            nn.BatchNorm1d(8192),\n",
    "            nn.ReLU(inplace=True),\n",
    "            nn.Linear(8192, 4096),\n",
    "            nn.BatchNorm1d(4096),\n",
    "            nn.ReLU(inplace=True),\n",
    "            nn.Linear(4096, 2048),\n",
    "            nn.BatchNorm1d(2048),\n",
    "            nn.ReLU(inplace=True),\n",
    "            nn.Linear(2048, 1024),\n",
    "            nn.BatchNorm1d(1024),\n",
    "            nn.ReLU(inplace=True),\n",
    "            nn.Linear(1024, 512),\n",
    "            nn.BatchNorm1d(512),\n",
    "            nn.ReLU(inplace=True),\n",
    "            nn.Linear(512, 256),\n",
    "            nn.BatchNorm1d(256),\n",
    "            nn.ReLU(inplace=True),\n",
    "            nn.Linear(256, 128),\n",
    "            nn.BatchNorm1d(128),\n",
    "            nn.ReLU(inplace=True),\n",
    "            nn.Linear(128, 64),\n",
    "            nn.BatchNorm1d(64),\n",
    "            nn.ReLU(inplace=True),\n",
    "            nn.Linear(64, 10),\n",
    "            \n",
    "        )\n",
    "    def forward(self, x):\n",
    "        x = x.view(256, 32 * 32 * 3)\n",
    "        x = self.classifier(x)\n",
    "\n",
    "        return x"
   ],
   "metadata": {
    "id": "rl-hh1VQOiXW",
    "ExecuteTime": {
     "end_time": "2024-03-25T02:19:31.964622429Z",
     "start_time": "2024-03-25T02:19:31.963171505Z"
    }
   },
   "execution_count": 66,
   "outputs": []
  },
  {
   "cell_type": "code",
   "source": [
    "model_1 = Linear()\n",
    "model_1 = model_1.to(DEVICE)\n",
    "\n",
    "criterion = nn.CrossEntropyLoss()\n",
    "optimizer = optim.Adam(model_1.parameters(), lr=0.0005)\n",
    "\n",
    "num_epochs = 5"
   ],
   "metadata": {
    "id": "GLt3OICgOkAz",
    "ExecuteTime": {
     "end_time": "2024-03-25T02:19:32.210857221Z",
     "start_time": "2024-03-25T02:19:31.965495003Z"
    }
   },
   "execution_count": 67,
   "outputs": []
  },
  {
   "cell_type": "code",
   "source": [
    "print(\"model_1 (linear) network training\")\n",
    "loss_history, test_acc_history = train(criterion, optimizer, model_1, num_epochs = num_epochs, device = DEVICE) "
   ],
   "metadata": {
    "id": "P-D1djs5Olop",
    "ExecuteTime": {
     "end_time": "2024-03-25T02:19:52.630055378Z",
     "start_time": "2024-03-25T02:19:32.211209945Z"
    }
   },
   "execution_count": 68,
   "outputs": [
    {
     "name": "stdout",
     "output_type": "stream",
     "text": [
      "model_1 (linear) network training\n",
      "epoch: 0, loss_per_epoch: 334.2330627441406, test_accuracy: 0.46464342948717946\n",
      "epoch: 1, loss_per_epoch: 285.9566650390625, test_accuracy: 0.49238782051282054\n",
      "epoch: 2, loss_per_epoch: 261.91705322265625, test_accuracy: 0.5143229166666666\n",
      "epoch: 3, loss_per_epoch: 244.4301300048828, test_accuracy: 0.526542467948718\n",
      "epoch: 4, loss_per_epoch: 227.813720703125, test_accuracy: 0.535957532051282\n"
     ]
    }
   ]
  },
  {
   "cell_type": "code",
   "source": [
    "plt.plot(list(range(num_epochs)), loss_history)\n",
    "plt.plot(list(range(num_epochs)), test_acc_history)\n",
    "plt.title(\"Traning Loss History\")\n",
    "plt.show()"
   ],
   "metadata": {
    "id": "y0AIzibyOm8-",
    "ExecuteTime": {
     "end_time": "2024-03-25T02:19:52.644738882Z",
     "start_time": "2024-03-25T02:19:52.629922949Z"
    }
   },
   "execution_count": 69,
   "outputs": [
    {
     "data": {
      "text/plain": "<Figure size 640x480 with 1 Axes>",
      "image/png": "[encoded data removed]"
     },
     "metadata": {},
     "output_type": "display_data"
    }
   ]
  }
 ]
}
